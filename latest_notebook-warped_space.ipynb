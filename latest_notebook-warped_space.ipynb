{
 "cells": [
  {
   "cell_type": "code",
   "execution_count": 1,
   "metadata": {},
   "outputs": [],
   "source": [
    "import numpy as np\n",
    "import cv2\n",
    "import matplotlib.pyplot as plt\n",
    "import matplotlib.image as mpimg\n",
    "import matplotlib.patches as patches\n",
    "from moviepy.editor import VideoFileClip\n",
    "from IPython.display import HTML\n",
    "import glob\n",
    "%matplotlib inline\n"
   ]
  },
  {
   "cell_type": "code",
   "execution_count": 2,
   "metadata": {},
   "outputs": [],
   "source": [
    "objp = np.zeros((6*9,3), np.float32)\n",
    "objp[:,:2] = np.mgrid[0:9,0:6].T.reshape(-1,2)\n",
    "\n",
    "nx = 9\n",
    "ny = 6\n",
    "# Arrays to store object points and image points from all the images.\n",
    "objpoints = [] # 3d points in real world space\n",
    "imgpoints = [] # 2d points in image plane.\n",
    "\n",
    "# Make a list of calibration images\n",
    "images = glob.glob('camera_cal/calibration*.jpg')\n",
    "\n",
    "# Step through the list and search for chessboard corners\n",
    "for fname in images:\n",
    "    img = cv2.imread(fname)\n",
    "    gray = cv2.cvtColor(img,cv2.COLOR_BGR2GRAY)\n",
    "\n",
    "    # Find the chessboard corners\n",
    "    ret, corners = cv2.findChessboardCorners(gray, (nx,ny),None)\n",
    "\n",
    "    # If found, add object points, image points\n",
    "    if ret == True:\n",
    "        objpoints.append(objp)\n",
    "        imgpoints.append(corners)\n",
    "\n",
    "        # Draw and display the corners\n",
    "        img = cv2.drawChessboardCorners(img, (nx,ny), corners, ret)\n",
    "        #cv2.imshow('img',img)\n",
    "        #cv2.waitKey(500)\n",
    "\n",
    "#cv2.destroyAllWindows()"
   ]
  },
  {
   "cell_type": "code",
   "execution_count": 3,
   "metadata": {},
   "outputs": [],
   "source": [
    "def get_camera_calibration(img, objpoints, imgpoints):\n",
    "    gray = cv2.cvtColor(img,cv2.COLOR_BGR2GRAY)\n",
    "    ret, mtx, dist, rvecs, tvecs = cv2.calibrateCamera(objpoints, imgpoints, gray.shape[::-1], None, None)\n",
    "    return mtx, dist\n",
    "    "
   ]
  },
  {
   "cell_type": "code",
   "execution_count": 4,
   "metadata": {},
   "outputs": [],
   "source": [
    "img = cv2.imread('camera_cal/calibration1.jpg')\n",
    "mtx, dist = get_camera_calibration(img, objpoints, imgpoints)"
   ]
  },
  {
   "cell_type": "code",
   "execution_count": 5,
   "metadata": {},
   "outputs": [],
   "source": [
    "def get_undistorted_image(img, mtx, dist):\n",
    "    image = img.copy()\n",
    "    undist = cv2.undistort(image, mtx, dist, None, mtx)\n",
    "    return undist"
   ]
  },
  {
   "cell_type": "code",
   "execution_count": 6,
   "metadata": {},
   "outputs": [],
   "source": [
    "def abs_sobel_thresh(image, orient, sobel_kernel, thresh):\n",
    "    img = image.copy()\n",
    "    thresh_min, thresh_max = thresh\n",
    "    gray = cv2.cvtColor(img, cv2.COLOR_RGB2GRAY)\n",
    "    if orient == 'x':\n",
    "        sobel = cv2.Sobel(gray, cv2.CV_64F, 1, 0, ksize=sobel_kernel)\n",
    "    else:\n",
    "        sobel = cv2.Sobel(gray, cv2.CV_64F, 0, 1, ksize=sobel_kernel)\n",
    "    abs_sobel = np.absolute(sobel)\n",
    "    scaled_sobel = np.uint8(255*abs_sobel/np.max(abs_sobel))\n",
    "    masked_sobel = np.zeros_like(scaled_sobel)\n",
    "    masked_sobel[(scaled_sobel >= thresh_min) & (scaled_sobel <= thresh_max)] = 1\n",
    "    return masked_sobel\n",
    "\n",
    "def mag_thresh(image, sobel_kernel=3, mag_thresh=(0, 255)):\n",
    "    img = image.copy()\n",
    "    gray = cv2.cvtColor(img, cv2.COLOR_RGB2GRAY)\n",
    "    sobel_x = cv2.Sobel(gray, cv2.CV_64F, 1, 0, ksize=sobel_kernel)\n",
    "    sobel_y = cv2.Sobel(gray, cv2.CV_64F, 0, 1, ksize=sobel_kernel)\n",
    "    sobel_mag = np.sqrt(np.power(sobel_x, 2)+np.power(sobel_y, 2))\n",
    "    sobel_scaled = np.uint8(255*sobel_mag/np.max(sobel_mag))\n",
    "    sobel_mask = np.zeros_like(sobel_scaled)\n",
    "    sobel_mask[(sobel_scaled>mag_thresh[0]) & (sobel_scaled<mag_thresh[1])] =1\n",
    "    return sobel_mask\n",
    "\n",
    "def dir_threshold(image, sobel_kernel=3, thresh=(0, np.pi/2)):\n",
    "    img = image.copy()\n",
    "    gray = cv2.cvtColor(img, cv2.COLOR_RGB2GRAY)\n",
    "    abs_sobel_x = np.absolute(cv2.Sobel(gray, cv2.CV_64F, 1, 0, ksize=sobel_kernel))\n",
    "    abs_sobel_y = np.absolute(cv2.Sobel(gray, cv2.CV_64F, 0, 1, ksize=sobel_kernel))\n",
    "    grad_dir = np.arctan2(abs_sobel_y, abs_sobel_x)\n",
    "    binary_output = np.zeros_like(grad_dir)\n",
    "    binary_output[(grad_dir > thresh[0]) & (grad_dir < thresh[1])] = 1\n",
    "    return binary_output\n",
    "\n",
    "def hls_select(image, thresh=(0, 255)):\n",
    "    img = image.copy()\n",
    "    hls = cv2.cvtColor(image, cv2.COLOR_RGB2HLS)\n",
    "    s = hls[:,:,2]\n",
    "    binary_output = np.zeros_like(s)\n",
    "    binary_output[(s>thresh[0]) & (s<=thresh[1])] = 1\n",
    "    return binary_output\n",
    "\n",
    "def get_thresholded_binary_image(img, ksize = 15):\n",
    "    image = img.copy()\n",
    "    gradx = abs_sobel_thresh(image, orient='x', sobel_kernel=ksize, thresh=(70, 100))\n",
    "    grady = abs_sobel_thresh(image, orient='y', sobel_kernel=ksize, thresh=(70, 100))\n",
    "    mag_binary = mag_thresh(image, sobel_kernel=ksize, mag_thresh=(70, 100))\n",
    "    dir_binary = dir_threshold(image, sobel_kernel=ksize, thresh=(0.7, 1.3))\n",
    "    hls_binary = hls_select(image, thresh=(120, 255))\n",
    "    combined = np.zeros_like(dir_binary)\n",
    "    combined[ ((dir_binary == 1) &(grady==1) &(mag_binary==1)) |(hls_binary==1) ] = 1\n",
    "    return combined\n"
   ]
  },
  {
   "cell_type": "code",
   "execution_count": 7,
   "metadata": {},
   "outputs": [],
   "source": [
    "def get_warp_matrix(undist_image):\n",
    "    undist_img = undist_image.copy()\n",
    "    gray = cv2.cvtColor(undist_img, cv2.COLOR_BGR2GRAY)\n",
    "    img_size = (gray.shape[1], gray.shape[0])\n",
    "    # For source points I'm grabbing the outer four detected corners\n",
    "    src = np.float32([[img_size[0]//7+20,img_size[1]],#img_size[0]//7, img_size[1]],\n",
    "                      [(6*img_size[0])//7+30, img_size[1]],\n",
    "                      [img_size[0]//2+60, img_size[1]//2+100],\n",
    "                      [img_size[0]//2-60, img_size[1]//2+100]])\n",
    "    print(src)\n",
    "    # For destination points, I'm arbitrarily choosing some points to be\n",
    "    # a nice fit for displaying our warped result \n",
    "    # again, not exact, but close enough for our purposes\n",
    "    offset=200\n",
    "    dst = np.float32([[offset, img_size[1]], \n",
    "                     [img_size[0]-offset, img_size[1]],\n",
    "                     [img_size[0]-offset,0],\n",
    "                     [offset, 0]])\n",
    "    # Given src and dst points, calculate the perspective transform matrix\n",
    "    M = cv2.getPerspectiveTransform(src, dst)\n",
    "    Minv = cv2.getPerspectiveTransform(dst, src)\n",
    "    # Warp the image using OpenCV warpPerspective()\n",
    "    warped = cv2.warpPerspective(undist_img, M, img_size)\n",
    "    return warped, M, Minv, src, dst"
   ]
  },
  {
   "cell_type": "code",
   "execution_count": 8,
   "metadata": {},
   "outputs": [
    {
     "name": "stdout",
     "output_type": "stream",
     "text": [
      "[[  202.   720.]\n",
      " [ 1127.   720.]\n",
      " [  700.   460.]\n",
      " [  580.   460.]]\n"
     ]
    }
   ],
   "source": [
    "image = cv2.imread('test_images/straight_lines1.jpg')\n",
    "undist_img = get_undistorted_image(image, mtx, dist)\n",
    "warped_img, perspective_M, perspective_Minv, _, dst = get_warp_matrix(undist_img)"
   ]
  },
  {
   "cell_type": "code",
   "execution_count": 9,
   "metadata": {},
   "outputs": [],
   "source": [
    "#perspective_M, perspective_Minv\n",
    "def get_transformed_image(img, perspective_M):\n",
    "    img_size = (img.shape[1], img.shape[0])\n",
    "    warped_img = cv2.warpPerspective(img, perspective_M, img_size)\n",
    "    return warped_img"
   ]
  },
  {
   "cell_type": "code",
   "execution_count": 10,
   "metadata": {},
   "outputs": [],
   "source": [
    "def find_lane_pixels(binary_warped_img):\n",
    "    binary_warped = binary_warped_img.copy()\n",
    "    histogram = np.sum(binary_warped[binary_warped.shape[0]//2:,:], axis=0)\n",
    "    out_img = np.dstack((binary_warped, binary_warped, binary_warped))\n",
    "    midpoint = np.int(histogram.shape[0]//2)\n",
    "    leftx_base = np.argmax(histogram[:midpoint])\n",
    "    rightx_base = np.argmax(histogram[midpoint:]) + midpoint\n",
    "    nwindows = 9\n",
    "    margin = 100\n",
    "    minpix = 50\n",
    "    window_height = np.int(binary_warped.shape[0]//nwindows)\n",
    "    nonzero = binary_warped.nonzero()\n",
    "    nonzeroy = np.array(nonzero[0])\n",
    "    nonzerox = np.array(nonzero[1])\n",
    "    leftx_current = leftx_base\n",
    "    rightx_current = rightx_base\n",
    "    left_lane_inds = []\n",
    "    right_lane_inds = []\n",
    "    for window in range(nwindows):\n",
    "        win_y_low = binary_warped.shape[0] - (window+1)*window_height\n",
    "        win_y_high = binary_warped.shape[0] - window*window_height\n",
    "        win_xleft_low = leftx_current-margin  # Update this\n",
    "        win_xleft_high = leftx_current+margin  # Update this\n",
    "        win_xright_low = rightx_current-margin  # Update this\n",
    "        win_xright_high = rightx_current+margin  # Update this\n",
    "        cv2.rectangle(out_img,(win_xleft_low,win_y_low),\n",
    "        (win_xleft_high,win_y_high),(0,255,0), 2) \n",
    "        cv2.rectangle(out_img,(win_xright_low,win_y_low),\n",
    "        (win_xright_high,win_y_high),(0,255,0), 2) \n",
    "        good_left_inds =((nonzeroy >= win_y_low) & (nonzeroy < win_y_high) & \n",
    "        (nonzerox >= win_xleft_low) &  (nonzerox < win_xleft_high)).nonzero()[0]\n",
    "        good_right_inds = ((nonzeroy >= win_y_low) & (nonzeroy < win_y_high) & \n",
    "        (nonzerox >= win_xright_low) &  (nonzerox < win_xright_high)).nonzero()[0]\n",
    "        left_lane_inds.append(good_left_inds)\n",
    "        right_lane_inds.append(good_right_inds)\n",
    "        if len(good_left_inds)>minpix:\n",
    "            leftx_current = np.int(np.mean(nonzerox[good_left_inds]))\n",
    "        \n",
    "        if len(good_right_inds)>minpix:\n",
    "            rightx_current = np.int(np.mean(nonzerox[good_right_inds]))\n",
    "    try:\n",
    "        left_lane_inds = np.concatenate(left_lane_inds)\n",
    "        right_lane_inds = np.concatenate(right_lane_inds)\n",
    "    except ValueError:\n",
    "        pass\n",
    "    leftx = nonzerox[left_lane_inds]\n",
    "    lefty = nonzeroy[left_lane_inds] \n",
    "    rightx = nonzerox[right_lane_inds]\n",
    "    righty = nonzeroy[right_lane_inds]\n",
    "\n",
    "    return leftx, lefty, rightx, righty, out_img\n",
    "\n",
    "\n",
    "# def fit_polynomial(binary_warped_img):\n",
    "#     binary_warped = binary_warped_img.copy()\n",
    "#     leftx, lefty, rightx, righty, out_img = find_lane_pixels(binary_warped)\n",
    "\n",
    "#     left_fit = np.polyfit(lefty, leftx, 2)\n",
    "#     right_fit = np.polyfit(righty, rightx, 2)\n",
    "    \n",
    "#     ploty = np.linspace(0, binary_warped.shape[0]-1, binary_warped.shape[0] )\n",
    "#     try:\n",
    "#         left_fitx = left_fit[0]*ploty**2 + left_fit[1]*ploty + left_fit[2]\n",
    "#         right_fitx = right_fit[0]*ploty**2 + right_fit[1]*ploty + right_fit[2]\n",
    "#     except TypeError:\n",
    "#         # Avoids an error if `left` and `right_fit` are still none or incorrect\n",
    "#         print('The function failed to fit a line!')\n",
    "#         left_fitx = 1*ploty**2 + 1*ploty\n",
    "#         right_fitx = 1*ploty**2 + 1*ploty\n",
    "\n",
    "#     out_img[lefty, leftx] = [255, 0, 0]\n",
    "#     out_img[righty, rightx] = [0, 0, 255]\n",
    "\n",
    "#     # Plots the left and right polynomials on the lane lines\n",
    "#     #plt.plot(left_fitx, ploty, color='yellow')\n",
    "#     #plt.plot(right_fitx, ploty, color='yellow')\n",
    "\n",
    "#     return out_img, left_fit, right_fit, ploty, left_fitx, right_fitx\n",
    "\n"
   ]
  },
  {
   "cell_type": "code",
   "execution_count": 11,
   "metadata": {},
   "outputs": [],
   "source": [
    "def fit_polynomial(binary_warped_img):\n",
    "    binary_warped = binary_warped_img.copy()\n",
    "    leftx, lefty, rightx, righty, out_img = find_lane_pixels(binary_warped)\n",
    "\n",
    "    left_fit = np.polyfit(lefty, leftx, 2)\n",
    "    right_fit = np.polyfit(righty, rightx, 2)\n",
    "    \n",
    "    ploty = np.linspace(0, binary_warped.shape[0]-1, binary_warped.shape[0] )\n",
    "    try:\n",
    "        left_fitx = left_fit[0]*ploty**2 + left_fit[1]*ploty + left_fit[2]\n",
    "        right_fitx = right_fit[0]*ploty**2 + right_fit[1]*ploty + right_fit[2]\n",
    "    except TypeError:\n",
    "        # Avoids an error if `left` and `right_fit` are still none or incorrect\n",
    "        print('The function failed to fit a line!')\n",
    "        left_fitx = 1*ploty**2 + 1*ploty\n",
    "        right_fitx = 1*ploty**2 + 1*ploty\n",
    "\n",
    "    ## Visualization ##\n",
    "    # Colors in the left and right lane regions\n",
    "    out_img[lefty, leftx] = [255, 0, 0]\n",
    "    out_img[righty, rightx] = [0, 0, 255]\n",
    "\n",
    "    # Plots the left and right polynomials on the lane lines\n",
    "    plt.plot(left_fitx, ploty, color='yellow')\n",
    "    plt.plot(right_fitx, ploty, color='yellow')\n",
    "\n",
    "    return out_img, left_fit, right_fit, ploty, left_fitx, right_fitx"
   ]
  },
  {
   "cell_type": "code",
   "execution_count": 12,
   "metadata": {},
   "outputs": [],
   "source": [
    "\n",
    "def fit_poly(img_shape, leftx, lefty, rightx, righty):\n",
    "    left_fit = np.polyfit(lefty, leftx, 2)\n",
    "    right_fit = np.polyfit(righty, rightx, 2)\n",
    "    ploty = np.linspace(0, img_shape[0]-1, img_shape[0])\n",
    "    ploty = np.linspace(0, img_shape[0]-1, img_shape[0] )\n",
    "\n",
    "    left_fitx = left_fit[0]*ploty**2 + left_fit[1]*ploty + left_fit[2]\n",
    "    right_fitx = right_fit[0]*ploty**2 + right_fit[1]*ploty + right_fit[2]\n",
    "\n",
    "    return left_fitx, right_fitx, ploty, left_fit, right_fit\n",
    "\n",
    "def search_around_poly(binary_warped_img, left_fit, right_fit):\n",
    "    # HYPERPARAMETER\n",
    "    # Choose the width of the margin around the previous polynomial to search\n",
    "    # The quiz grader expects 100 here, but feel free to tune on your own!\n",
    "    binary_warped = binary_warped_img.copy()\n",
    "    margin = 150\n",
    "\n",
    "    # Grab activated pixels\n",
    "    nonzero = binary_warped.nonzero()\n",
    "    nonzeroy = np.array(nonzero[0])\n",
    "    nonzerox = np.array(nonzero[1])\n",
    "    \n",
    "    ### TO-DO: Set the area of search based on activated x-values ###\n",
    "    ### within the +/- margin of our polynomial function ###\n",
    "    ### Hint: consider the window areas for the similarly named variables ###\n",
    "    ### in the previous quiz, but change the windows to our new search area ###\n",
    "    left_lane_inds = ((nonzerox > (left_fit[0]*(nonzeroy**2) + left_fit[1]*nonzeroy + \n",
    "                    left_fit[2] - margin)) & (nonzerox < (left_fit[0]*(nonzeroy**2) + \n",
    "                    left_fit[1]*nonzeroy + left_fit[2] + margin)))\n",
    "    right_lane_inds = ((nonzerox > (right_fit[0]*(nonzeroy**2) + right_fit[1]*nonzeroy + \n",
    "                    right_fit[2] - margin)) & (nonzerox < (right_fit[0]*(nonzeroy**2) + \n",
    "                    right_fit[1]*nonzeroy + right_fit[2] + margin)))\n",
    "    \n",
    "    # Again, extract left and right line pixel positions\n",
    "    leftx = nonzerox[left_lane_inds]\n",
    "    lefty = nonzeroy[left_lane_inds] \n",
    "    rightx = nonzerox[right_lane_inds]\n",
    "    righty = nonzeroy[right_lane_inds]\n",
    "\n",
    "    # Fit new polynomials\n",
    "    left_fitx, right_fitx, ploty , left_fit, right_fit= fit_poly(binary_warped.shape, leftx, lefty, rightx, righty)\n",
    "    \n",
    "    ## Visualization ##\n",
    "    # Create an image to draw on and an image to show the selection window\n",
    "    out_img = np.dstack((binary_warped, binary_warped, binary_warped))*255\n",
    "    window_img = np.zeros_like(out_img)\n",
    "    # Color in left and right line pixels\n",
    "    out_img[nonzeroy[left_lane_inds], nonzerox[left_lane_inds]] = [255, 0, 0]\n",
    "    out_img[nonzeroy[right_lane_inds], nonzerox[right_lane_inds]] = [0, 0, 255]\n",
    "\n",
    "    # Generate a polygon to illustrate the search window area\n",
    "    # And recast the x and y points into usable format for cv2.fillPoly()\n",
    "    left_line_window1 = np.array([np.transpose(np.vstack([left_fitx-margin, ploty]))])\n",
    "    left_line_window2 = np.array([np.flipud(np.transpose(np.vstack([left_fitx+margin, \n",
    "                              ploty])))])\n",
    "    left_line_pts = np.hstack((left_line_window1, left_line_window2))\n",
    "    right_line_window1 = np.array([np.transpose(np.vstack([right_fitx-margin, ploty]))])\n",
    "    right_line_window2 = np.array([np.flipud(np.transpose(np.vstack([right_fitx+margin, \n",
    "                              ploty])))])\n",
    "    right_line_pts = np.hstack((right_line_window1, right_line_window2))\n",
    "\n",
    "    # Draw the lane onto the warped blank image\n",
    "    cv2.fillPoly(window_img, np.int_([left_line_pts]), (0,255, 0))\n",
    "    cv2.fillPoly(window_img, np.int_([right_line_pts]), (0,255, 0))\n",
    "    result = cv2.addWeighted(out_img, 1, window_img, 0.3, 0)\n",
    "    \n",
    "    # Plot the polynomial lines onto the image\n",
    "    plt.plot(left_fitx, ploty, color='yellow')\n",
    "    plt.plot(right_fitx, ploty, color='yellow')\n",
    "    ## End visualization steps ##\n",
    "    \n",
    "    return result, left_fitx, right_fitx, ploty, left_fit, right_fit\n",
    "\n"
   ]
  },
  {
   "cell_type": "code",
   "execution_count": 13,
   "metadata": {},
   "outputs": [],
   "source": [
    "def measure_curvature_real(ploty, left_fit_cr, right_fit_cr):\n",
    "    ym_per_pix = 30/720 # meters per pixel in y dimension\n",
    "    xm_per_pix = 3.7/700 # meters per pixel in x dimension\n",
    "    \n",
    "    y_eval = np.max(ploty)\n",
    "    ##### TO-DO: Implement the calculation of R_curve (radius of curvature) #####\n",
    "    left_curverad = np.power(1+(2*left_fit_cr[0]*y_eval*ym_per_pix + left_fit_cr[1])**2, 3/2)/(2*np.absolute(left_fit_cr[0]))  ## Implement the calculation of the left line here\n",
    "    right_curverad = np.power(1+(2*right_fit_cr[0]*y_eval*ym_per_pix + right_fit_cr[1])**2, 3/2)/(2*np.absolute(right_fit_cr[0])) ## Implement the calculation of the right line here\n",
    "    \n",
    "    return left_curverad, right_curverad"
   ]
  },
  {
   "cell_type": "code",
   "execution_count": 14,
   "metadata": {},
   "outputs": [],
   "source": [
    "def plot_lanes(warped, undist, left_fitx, right_fitx, ploty, Minv):\n",
    "    # Create an image to draw the lines on\n",
    "    warp_zero = np.zeros_like(warped).astype(np.uint8)\n",
    "    color_warp = np.dstack((warp_zero, warp_zero, warp_zero))\n",
    "\n",
    "    # Recast the x and y points into usable format for cv2.fillPoly()\n",
    "    pts_left = np.array([np.transpose(np.vstack([left_fitx, ploty]))])\n",
    "    pts_right = np.array([np.flipud(np.transpose(np.vstack([right_fitx, ploty])))])\n",
    "    pts = np.hstack((pts_left, pts_right))\n",
    "\n",
    "    # Draw the lane onto the warped blank image\n",
    "    cv2.fillPoly(color_warp, np.int_([pts]), (0,255, 0))\n",
    "\n",
    "    # Warp the blank back to original image space using inverse perspective matrix (Minv)\n",
    "    newwarp = cv2.warpPerspective(color_warp, Minv, (image.shape[1], image.shape[0])) \n",
    "    # Combine the result with the original image\n",
    "    result = cv2.addWeighted(undist, 1, newwarp, 0.3, 0)\n",
    "    return result"
   ]
  },
  {
   "cell_type": "code",
   "execution_count": 15,
   "metadata": {},
   "outputs": [],
   "source": [
    "def get_vehicle_offset(left_fitx, right_fitx, img_size):\n",
    "    left_dist = img_size[1]//2 - left_fitx[-1]\n",
    "    right_dist = right_fitx[-1] - img_size[1]//2\n",
    "    return left_dist, right_dist\n",
    "    \n",
    "def get_vehicle_dist_from_centre(left_fitx, right_fitx, img_size):\n",
    "    xm_per_pix = 3.7/700\n",
    "    lane_midpoint = (right_fitx[-1]+left_fitx[-1])//2\n",
    "    img_mid_point = img_size[1]//2\n",
    "    return round((lane_midpoint - img_mid_point)*xm_per_pix,4)\n",
    "    "
   ]
  },
  {
   "cell_type": "code",
   "execution_count": 16,
   "metadata": {},
   "outputs": [],
   "source": [
    "def get_lines_object(left_fit, right_fit, left_radius, right_radius, left_dist, right_dist,\n",
    "                    left_fitx, right_fitx, ploty):\n",
    "    new_left_line = Line()\n",
    "    new_right_line = Line()\n",
    "    new_left_line.current_fit = left_fit\n",
    "    new_right_line.current_fit = right_fit\n",
    "    new_left_line.radius_of_curvature = left_radius\n",
    "    new_right_line.radius_of_curvature = right_radius\n",
    "    new_left_line.line_base_pos = left_dist\n",
    "    new_right_line.line_base_pos = right_dist\n",
    "    new_left_line.allx = left_fitx\n",
    "    new_left_line.ally = ploty\n",
    "    new_right_line.allx = right_fitx\n",
    "    new_right_line.ally = ploty\n",
    "    return new_left_line, new_right_line"
   ]
  },
  {
   "cell_type": "code",
   "execution_count": 17,
   "metadata": {},
   "outputs": [],
   "source": [
    "def get_lines_from_scratch(warped_image, undist_image, perspective_Minv):\n",
    "    warped_img = warped_image.copy()\n",
    "    undist_img = undist_image.copy()\n",
    "    result, left_fit, right_fit, ploty, left_fitx, right_fitx = fit_polynomial(warped_img)\n",
    "    left_radius, right_radius = measure_curvature_real(ploty, left_fit, right_fit)\n",
    "    result = plot_lanes(warped_img, undist_img, left_fitx, right_fitx, ploty, perspective_Minv)\n",
    "    vehicle_dist = get_vehicle_dist_from_centre(left_fitx, right_fitx, warped_img.shape)        \n",
    "    if vehicle_dist > 0:\n",
    "        result = cv2.putText(result,'Vehicle is ' + str(vehicle_dist) + 'm left of center', (0, 200), 0, \n",
    "                    2, (255, 255, 255), 5, cv2.LINE_AA)\n",
    "    else:\n",
    "        result = cv2.putText(result,'Vehicle is ' + str(-1*vehicle_dist) + 'm right of center', (0, 200), 0, \n",
    "                    2, (255, 255, 255), 5, cv2.LINE_AA)\n",
    "        \n",
    "    result = cv2.putText(result,'Radius of curvature=' + str(right_radius) + '(m)', (0, 100), 0, \n",
    "                         2, (255, 255, 255), 5, cv2.LINE_AA)\n",
    "    left_dist, right_dist = get_vehicle_offset(left_fitx, right_fitx, warped_img.shape)\n",
    "    left_line, right_line = get_lines_object(left_fit, right_fit, left_radius, right_radius, left_dist,\n",
    "                                             right_dist,left_fitx, right_fitx, ploty)\n",
    "    return result, left_line, right_line"
   ]
  },
  {
   "cell_type": "code",
   "execution_count": 18,
   "metadata": {},
   "outputs": [],
   "source": [
    "def get_lines_from_previous(warped_image, undist_image, flag, left_lines, right_lines, perspective_Minv):\n",
    "    warped_img = warped_image.copy()\n",
    "    undist_img = undist_image.copy()\n",
    "    result, left_fitx, right_fitx, ploty, left_fit, right_fit = search_around_poly(warped_img, \n",
    "                                                                                   left_lines[-1].current_fit,\n",
    "                                                                                  right_lines[-1].current_fit)\n",
    "    left_radius, right_radius = measure_curvature_real(ploty, left_fit, right_fit)\n",
    "    result = plot_lanes(warped_img, undist_img, left_fitx, right_fitx, ploty, perspective_Minv)\n",
    "    vehicle_dist = get_vehicle_dist_from_centre(left_fitx, right_fitx, warped_img.shape)\n",
    "    if vehicle_dist > 0:\n",
    "        result = cv2.putText(result,'Vehicle is ' + str(vehicle_dist) + 'm left of center', (0, 200), 0, \n",
    "                    2, (255, 255, 255), 5, cv2.LINE_AA)\n",
    "    else:\n",
    "        result = cv2.putText(result,'Vehicle is ' + str(-1*vehicle_dist) + 'm right of center', (0, 200), 0, \n",
    "                    2, (255, 255, 255), 5, cv2.LINE_AA)\n",
    "    result = cv2.putText(result,'Radius of curvature=' + str(left_radius) + '(m)', (0, 100), 0, \n",
    "                2, (255, 255, 255), 5, cv2.LINE_AA)\n",
    "    left_dist, right_dist = self.get_vehicle_offset(left_fitx, right_fitx, warped_img.shape)\n",
    "    left_line, right_line = get_lines_object(left_fit, right_fit, left_radius, right_radius, left_dist,\n",
    "                                             right_dist,left_fitx, right_fitx, ploty)\n",
    "    return result, left_line, right_line\n"
   ]
  },
  {
   "cell_type": "code",
   "execution_count": 19,
   "metadata": {},
   "outputs": [],
   "source": [
    "def check_last_line(self):\n",
    "    if abs(self.left_lines[-1].radius_of_curvature - self.right_lines[-1].radius_of_curvature) > 200:\n",
    "        flag = False\n",
    "    else:\n",
    "        dist_bet_lines = self.left_lines[-1].line_base_pos + self.left_lines[-1].line_base_pos\n",
    "        if  dist_bet_lines > 1000 or dist_bet_lines < 1:#change this values later\n",
    "            flag = False\n",
    "        else:\n",
    "            flag = True#Add function to check if lanes are parallel\n",
    "    return flag\n"
   ]
  },
  {
   "cell_type": "code",
   "execution_count": 20,
   "metadata": {},
   "outputs": [],
   "source": [
    "def last_line(left_lines, right_lines):\n",
    "    rad_dist = left_lines[-1].radius_of_curvature - right_lines[-1].radius_of_curvature\n",
    "    dist_bet_lines = left_lines[-1].line_base_pos + left_lines[-1].line_base_pos\n",
    "    "
   ]
  },
  {
   "cell_type": "code",
   "execution_count": null,
   "metadata": {},
   "outputs": [],
   "source": []
  },
  {
   "cell_type": "code",
   "execution_count": null,
   "metadata": {},
   "outputs": [],
   "source": []
  },
  {
   "cell_type": "code",
   "execution_count": null,
   "metadata": {},
   "outputs": [],
   "source": []
  },
  {
   "cell_type": "code",
   "execution_count": 21,
   "metadata": {},
   "outputs": [],
   "source": [
    "class Line():\n",
    "    def __init__(self):\n",
    "        self.detected = False  \n",
    "        self.recent_xfitted = [] \n",
    "        self.bestx = None     \n",
    "        self.best_fit = None  \n",
    "        self.current_fit = [np.array([False])]  \n",
    "        self.radius_of_curvature = None \n",
    "        self.line_base_pos = None \n",
    "        self.diffs = np.array([0,0,0], dtype='float') \n",
    "        self.allx = None  \n",
    "        self.ally = None  "
   ]
  },
  {
   "cell_type": "code",
   "execution_count": 26,
   "metadata": {},
   "outputs": [],
   "source": [
    "left_lines = []\n",
    "right_lines = []\n",
    "xm_per_pix = 3.7/700\n",
    "ym_per_pix = 30/720\n",
    "temp=[]\n",
    "i = 0\n",
    "def process_frame(image):\n",
    "    global i\n",
    "    i+=1\n",
    "    undist_img = get_undistorted_image(image, mtx, dist)\n",
    "    combined = get_thresholded_binary_image(undist_img)\n",
    "    warped_img = get_transformed_image(combined, perspective_M)\n",
    "    if i==1:\n",
    "        result, left_fit, right_fit, ploty, left_fitx, right_fitx = fit_polynomial(warped_img)\n",
    "    else:\n",
    "        result, left_fitx, right_fitx, ploty, left_fit, right_fit = search_around_poly(warped_img, \n",
    "                                                                                   temp[-1][3],\n",
    "                                                                                  temp[-1][4])\n",
    "    temp.append((left_fitx, right_fitx, ploty, left_fit, right_fit))\n",
    "    return result"
   ]
  },
  {
   "cell_type": "code",
   "execution_count": null,
   "metadata": {},
   "outputs": [],
   "source": []
  },
  {
   "cell_type": "code",
   "execution_count": 23,
   "metadata": {},
   "outputs": [
    {
     "data": {
      "text/plain": [
       "<matplotlib.image.AxesImage at 0x7fe8fa3ae630>"
      ]
     },
     "execution_count": 23,
     "metadata": {},
     "output_type": "execute_result"
    },
    {
     "data": {
      "image/png": "[encoded data removed]",
      "text/plain": [
       "<matplotlib.figure.Figure at 0x7fe8fb946e48>"
      ]
     },
     "metadata": {
      "needs_background": "light"
     },
     "output_type": "display_data"
    }
   ],
   "source": [
    "img = cv2.imread('test_images/test6.jpg')\n",
    "result = process_frame(img)\n",
    "plt.imshow(result)"
   ]
  },
  {
   "cell_type": "code",
   "execution_count": 27,
   "metadata": {},
   "outputs": [
    {
     "name": "stdout",
     "output_type": "stream",
     "text": [
      "[MoviePy] >>>> Building video project_video_output_combined.mp4\n",
      "[MoviePy] Writing video project_video_output_combined.mp4\n"
     ]
    },
    {
     "name": "stderr",
     "output_type": "stream",
     "text": [
      " 99%|█████████▉| 125/126 [00:45<00:00,  2.68it/s]\n"
     ]
    },
    {
     "name": "stdout",
     "output_type": "stream",
     "text": [
      "[MoviePy] Done.\n",
      "[MoviePy] >>>> Video ready: project_video_output_combined.mp4 \n",
      "\n",
      "CPU times: user 35.1 s, sys: 5.66 s, total: 40.7 s\n",
      "Wall time: 46.9 s\n"
     ]
    },
    {
     "data": {
      "image/png": "[encoded data removed]",
      "text/plain": [
       "<matplotlib.figure.Figure at 0x7fe8f832b4e0>"
      ]
     },
     "metadata": {
      "needs_background": "light"
     },
     "output_type": "display_data"
    }
   ],
   "source": [
    "white_output = 'project_video_output_combined.mp4'\n",
    "## To speed up the testing process you may want to try your pipeline on a shorter subclip of the video\n",
    "## To do so add .subclip(start_second,end_second) to the end of the line below\n",
    "## Where start_second and end_second are integer values representing the start and end of the subclip\n",
    "## You may also uncomment the following line for a subclip of the first 5 seconds\n",
    "##clip1 = VideoFileClip(\"test_videos/solidWhiteRight.mp4\").subclip(0,5)\n",
    "clip1 = VideoFileClip(\"project_video.mp4\").subclip(0, 5)\n",
    "white_clip = clip1.fl_image(process_frame) #NOTE: this function expects color images!!\n",
    "%time white_clip.write_videofile(white_output, audio=False)"
   ]
  },
  {
   "cell_type": "code",
   "execution_count": 28,
   "metadata": {
    "scrolled": false
   },
   "outputs": [
    {
     "data": {
      "text/html": [
       "\n",
       "<video width=\"960\" height=\"540\" controls>\n",
       "  <source src=\"project_video_output_combined.mp4\">\n",
       "</video>\n"
      ],
      "text/plain": [
       "<IPython.core.display.HTML object>"
      ]
     },
     "execution_count": 28,
     "metadata": {},
     "output_type": "execute_result"
    }
   ],
   "source": [
    "HTML(\"\"\"\n",
    "<video width=\"960\" height=\"540\" controls>\n",
    "  <source src=\"{0}\">\n",
    "</video>\n",
    "\"\"\".format(white_output))"
   ]
  },
  {
   "cell_type": "code",
   "execution_count": 29,
   "metadata": {},
   "outputs": [
    {
     "data": {
      "text/plain": [
       "126"
      ]
     },
     "execution_count": 29,
     "metadata": {},
     "output_type": "execute_result"
    }
   ],
   "source": [
    "i"
   ]
  },
  {
   "cell_type": "code",
   "execution_count": null,
   "metadata": {},
   "outputs": [],
   "source": []
  }
 ],
 "metadata": {
  "kernelspec": {
   "display_name": "Python 3",
   "language": "python",
   "name": "python3"
  },
  "language_info": {
   "codemirror_mode": {
    "name": "ipython",
    "version": 3
   },
   "file_extension": ".py",
   "mimetype": "text/x-python",
   "name": "python",
   "nbconvert_exporter": "python",
   "pygments_lexer": "ipython3",
   "version": "3.6.3"
  }
 },
 "nbformat": 4,
 "nbformat_minor": 2
}
